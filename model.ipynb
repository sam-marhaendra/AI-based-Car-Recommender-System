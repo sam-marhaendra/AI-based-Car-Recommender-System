{
  "cells": [
    {
      "cell_type": "markdown",
      "id": "92699271",
      "metadata": {
        "papermill": {
          "duration": 0.040265,
          "end_time": "2022-05-24T07:29:42.044615",
          "exception": false,
          "start_time": "2022-05-24T07:29:42.004350",
          "status": "completed"
        },
        "tags": [],
        "id": "92699271"
      },
      "source": [
        "## Importing The Library"
      ]
    },
    {
      "cell_type": "code",
      "execution_count": null,
      "id": "d585564e",
      "metadata": {
        "_cell_guid": "b1076dfc-b9ad-4769-8c92-a6c4dae69d19",
        "_uuid": "8f2839f25d086af736a60e9eeb907d3b93b6e0e5",
        "execution": {
          "iopub.execute_input": "2022-05-24T07:29:42.123660Z",
          "iopub.status.busy": "2022-05-24T07:29:42.123197Z",
          "iopub.status.idle": "2022-05-24T07:29:42.144684Z",
          "shell.execute_reply": "2022-05-24T07:29:42.143180Z"
        },
        "papermill": {
          "duration": 0.062771,
          "end_time": "2022-05-24T07:29:42.146697",
          "exception": false,
          "start_time": "2022-05-24T07:29:42.083926",
          "status": "completed"
        },
        "tags": [],
        "id": "d585564e"
      },
      "outputs": [],
      "source": [
        "import numpy as np\n",
        "import pandas as pd"
      ]
    },
    {
      "cell_type": "markdown",
      "id": "db861f16",
      "metadata": {
        "papermill": {
          "duration": 0.023158,
          "end_time": "2022-05-24T07:29:42.194140",
          "exception": false,
          "start_time": "2022-05-24T07:29:42.170982",
          "status": "completed"
        },
        "tags": [],
        "id": "db861f16"
      },
      "source": [
        "## Importing The Dataset"
      ]
    },
    {
      "cell_type": "code",
      "source": [
        "!pip install kaggle"
      ],
      "metadata": {
        "colab": {
          "base_uri": "https://localhost:8080/"
        },
        "id": "xN8oGlhTN0bA",
        "outputId": "105cbc57-8a28-480a-febb-5239dbe1a0a8"
      },
      "id": "xN8oGlhTN0bA",
      "execution_count": null,
      "outputs": [
        {
          "output_type": "stream",
          "name": "stdout",
          "text": [
            "Looking in indexes: https://pypi.org/simple, https://us-python.pkg.dev/colab-wheels/public/simple/\n",
            "Requirement already satisfied: kaggle in /usr/local/lib/python3.7/dist-packages (1.5.12)\n",
            "Requirement already satisfied: urllib3 in /usr/local/lib/python3.7/dist-packages (from kaggle) (1.24.3)\n",
            "Requirement already satisfied: tqdm in /usr/local/lib/python3.7/dist-packages (from kaggle) (4.64.0)\n",
            "Requirement already satisfied: python-dateutil in /usr/local/lib/python3.7/dist-packages (from kaggle) (2.8.2)\n",
            "Requirement already satisfied: certifi in /usr/local/lib/python3.7/dist-packages (from kaggle) (2022.5.18.1)\n",
            "Requirement already satisfied: requests in /usr/local/lib/python3.7/dist-packages (from kaggle) (2.23.0)\n",
            "Requirement already satisfied: six>=1.10 in /usr/local/lib/python3.7/dist-packages (from kaggle) (1.15.0)\n",
            "Requirement already satisfied: python-slugify in /usr/local/lib/python3.7/dist-packages (from kaggle) (6.1.2)\n",
            "Requirement already satisfied: text-unidecode>=1.3 in /usr/local/lib/python3.7/dist-packages (from python-slugify->kaggle) (1.3)\n",
            "Requirement already satisfied: chardet<4,>=3.0.2 in /usr/local/lib/python3.7/dist-packages (from requests->kaggle) (3.0.4)\n",
            "Requirement already satisfied: idna<3,>=2.5 in /usr/local/lib/python3.7/dist-packages (from requests->kaggle) (2.10)\n"
          ]
        }
      ]
    },
    {
      "cell_type": "code",
      "source": [
        "from google.colab import files\n",
        "\n",
        "uploaded = files.upload()\n",
        "\n",
        "for fn in uploaded.keys():\n",
        "  print('User uploaded file \"{name}\" with length {length} bytes'.format(\n",
        "      name=fn, length=len(uploaded[fn])))\n",
        "  \n",
        "# Then move kaggle.json into the folder where the API expects to find it.\n",
        "!mkdir -p ~/.kaggle/ && mv kaggle.json ~/.kaggle/ && chmod 600 ~/.kaggle/kaggle.json"
      ],
      "metadata": {
        "colab": {
          "resources": {
            "http://localhost:8080/nbextensions/google.colab/files.js": {
              "data": "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",
              "ok": true,
              "headers": [
                [
                  "content-type",
                  "application/javascript"
                ]
              ],
              "status": 200,
              "status_text": ""
            }
          },
          "base_uri": "https://localhost:8080/",
          "height": 90
        },
        "id": "KcYBF1u6ObfU",
        "outputId": "5f67fa3f-5a5b-46ed-a55a-5acc6cd46ce9"
      },
      "id": "KcYBF1u6ObfU",
      "execution_count": null,
      "outputs": [
        {
          "output_type": "display_data",
          "data": {
            "text/plain": [
              "<IPython.core.display.HTML object>"
            ],
            "text/html": [
              "\n",
              "     <input type=\"file\" id=\"files-d4ff9911-e57b-48cd-bedb-718426409563\" name=\"files[]\" multiple disabled\n",
              "        style=\"border:none\" />\n",
              "     <output id=\"result-d4ff9911-e57b-48cd-bedb-718426409563\">\n",
              "      Upload widget is only available when the cell has been executed in the\n",
              "      current browser session. Please rerun this cell to enable.\n",
              "      </output>\n",
              "      <script src=\"/nbextensions/google.colab/files.js\"></script> "
            ]
          },
          "metadata": {}
        },
        {
          "output_type": "stream",
          "name": "stdout",
          "text": [
            "Saving kaggle.json to kaggle.json\n",
            "User uploaded file \"kaggle.json\" with length 70 bytes\n"
          ]
        }
      ]
    },
    {
      "cell_type": "code",
      "source": [
        "!kaggle datasets download -d adityadesai13/used-car-dataset-ford-and-mercedes"
      ],
      "metadata": {
        "colab": {
          "base_uri": "https://localhost:8080/"
        },
        "id": "MROeUi_fNVNo",
        "outputId": "b57cbcaa-9440-41bf-cc0f-c082fd424ebc"
      },
      "id": "MROeUi_fNVNo",
      "execution_count": null,
      "outputs": [
        {
          "output_type": "stream",
          "name": "stdout",
          "text": [
            "Downloading used-car-dataset-ford-and-mercedes.zip to /content\n",
            "\r  0% 0.00/1.10M [00:00<?, ?B/s]\n",
            "\r100% 1.10M/1.10M [00:00<00:00, 143MB/s]\n"
          ]
        }
      ]
    },
    {
      "cell_type": "code",
      "source": [
        "!unzip \\*.zip  && rm *.zip"
      ],
      "metadata": {
        "colab": {
          "base_uri": "https://localhost:8080/"
        },
        "id": "-eu898qBOmlN",
        "outputId": "d853f152-f661-45cf-c6f7-eb13aa2b4e40"
      },
      "id": "-eu898qBOmlN",
      "execution_count": null,
      "outputs": [
        {
          "output_type": "stream",
          "name": "stdout",
          "text": [
            "Archive:  used-car-dataset-ford-and-mercedes.zip\n",
            "  inflating: audi.csv                \n",
            "  inflating: bmw.csv                 \n",
            "  inflating: cclass.csv              \n",
            "  inflating: focus.csv               \n",
            "  inflating: ford.csv                \n",
            "  inflating: hyundi.csv              \n",
            "  inflating: merc.csv                \n",
            "  inflating: skoda.csv               \n",
            "  inflating: toyota.csv              \n",
            "  inflating: unclean cclass.csv      \n",
            "  inflating: unclean focus.csv       \n",
            "  inflating: vauxhall.csv            \n",
            "  inflating: vw.csv                  \n"
          ]
        }
      ]
    },
    {
      "cell_type": "code",
      "execution_count": null,
      "id": "bd865548",
      "metadata": {
        "execution": {
          "iopub.execute_input": "2022-05-24T07:29:42.248180Z",
          "iopub.status.busy": "2022-05-24T07:29:42.247163Z",
          "iopub.status.idle": "2022-05-24T07:29:42.455277Z",
          "shell.execute_reply": "2022-05-24T07:29:42.454515Z"
        },
        "papermill": {
          "duration": 0.240178,
          "end_time": "2022-05-24T07:29:42.457726",
          "exception": false,
          "start_time": "2022-05-24T07:29:42.217548",
          "status": "completed"
        },
        "tags": [],
        "id": "bd865548"
      },
      "outputs": [],
      "source": [
        "df_audi = pd.read_csv(\"audi.csv\")\n",
        "df_audi[\"brand\"] = \"Audi\"\n",
        "\n",
        "df_bmw = pd.read_csv(\"bmw.csv\")\n",
        "df_bmw[\"brand\"] = \"BMW\"\n",
        "\n",
        "df_ford = pd.read_csv(\"ford.csv\")\n",
        "df_ford[\"brand\"] = \"Ford\"\n",
        "\n",
        "df_hyundai = pd.read_csv(\"hyundi.csv\")\n",
        "df_hyundai[\"brand\"] = \"Hyundai\"\n",
        "df_hyundai[\"tax\"] = df_hyundai[\"tax(£)\"] * 1.07\n",
        "\n",
        "df_merc = pd.read_csv(\"merc.csv\")\n",
        "df_merc[\"brand\"] = \"Mercedes\"\n",
        "\n",
        "df_toyota = pd.read_csv(\"toyota.csv\")\n",
        "df_toyota[\"brand\"] = \"Toyota\"\n",
        "\n",
        "df_vw = pd.read_csv(\"vw.csv\")\n",
        "df_vw[\"brand\"] = \"VW\""
      ]
    },
    {
      "cell_type": "code",
      "source": [
        "print(\"Models on Audi Car Brand\")\n",
        "print(df_audi.model.unique())\n",
        "\n",
        "print(\"Models on BMW Car Brand\")\n",
        "print(df_bmw.model.unique())\n",
        "\n",
        "print(\"Models on Ford Car Brand\")\n",
        "print(df_ford.model.unique())\n",
        "\n",
        "print(\"Models on Hyundai Car Brand\")\n",
        "print(df_hyundai.model.unique())\n",
        "\n",
        "print(\"Models on Mercedes Car Brand\")\n",
        "print(df_merc.model.unique())\n",
        "\n",
        "print(\"Models on Toyota Car Brand\")\n",
        "print(df_toyota.model.unique())\n",
        "\n",
        "print(\"Models on VW Car Brand\")\n",
        "print(df_vw.model.unique())"
      ],
      "metadata": {
        "colab": {
          "base_uri": "https://localhost:8080/"
        },
        "id": "Qs0UV0YgPIlM",
        "outputId": "42d1430b-670b-4db5-dbfd-489f033c60cb"
      },
      "id": "Qs0UV0YgPIlM",
      "execution_count": null,
      "outputs": [
        {
          "output_type": "stream",
          "name": "stdout",
          "text": [
            "Models on Audi Car Brand\n",
            "[' A1' ' A6' ' A4' ' A3' ' Q3' ' Q5' ' A5' ' S4' ' Q2' ' A7' ' TT' ' Q7'\n",
            " ' RS6' ' RS3' ' A8' ' Q8' ' RS4' ' RS5' ' R8' ' SQ5' ' S8' ' SQ7' ' S3'\n",
            " ' S5' ' A2' ' RS7']\n",
            "Models on BMW Car Brand\n",
            "[' 5 Series' ' 6 Series' ' 1 Series' ' 7 Series' ' 2 Series' ' 4 Series'\n",
            " ' X3' ' 3 Series' ' X5' ' X4' ' i3' ' X1' ' M4' ' X2' ' X6' ' 8 Series'\n",
            " ' Z4' ' X7' ' M5' ' i8' ' M2' ' M3' ' M6' ' Z3']\n",
            "Models on Ford Car Brand\n",
            "[' Fiesta' ' Focus' ' Puma' ' Kuga' ' EcoSport' ' C-MAX' ' Mondeo' ' Ka+'\n",
            " ' Tourneo Custom' ' S-MAX' ' B-MAX' ' Edge' ' Tourneo Connect'\n",
            " ' Grand C-MAX' ' KA' ' Galaxy' ' Mustang' ' Grand Tourneo Connect'\n",
            " ' Fusion' ' Ranger' ' Streetka' ' Escort' ' Transit Tourneo']\n",
            "Models on Hyundai Car Brand\n",
            "[' I20' ' Tucson' ' I10' ' IX35' ' I30' ' I40' ' Ioniq' ' Kona'\n",
            " ' Veloster' ' I800' ' IX20' ' Santa Fe' ' Accent' ' Terracan' ' Getz'\n",
            " ' Amica']\n",
            "Models on Mercedes Car Brand\n",
            "[' SLK' ' S Class' ' SL CLASS' ' G Class' ' GLE Class' ' GLA Class'\n",
            " ' A Class' ' B Class' ' GLC Class' ' C Class' ' E Class' ' GL Class'\n",
            " ' CLS Class' ' CLC Class' ' CLA Class' ' V Class' ' M Class' ' CL Class'\n",
            " ' GLS Class' ' GLB Class' ' X-CLASS' '180' ' CLK' ' R Class' '230' '220'\n",
            " '200']\n",
            "Models on Toyota Car Brand\n",
            "[' GT86' ' Corolla' ' RAV4' ' Yaris' ' Auris' ' Aygo' ' C-HR' ' Prius'\n",
            " ' Avensis' ' Verso' ' Hilux' ' PROACE VERSO' ' Land Cruiser' ' Supra'\n",
            " ' Camry' ' Verso-S' ' IQ' ' Urban Cruiser']\n",
            "Models on VW Car Brand\n",
            "[' T-Roc' ' Golf' ' Passat' ' T-Cross' ' Polo' ' Tiguan' ' Sharan' ' Up'\n",
            " ' Scirocco' ' Beetle' ' Caddy Maxi Life' ' Caravelle' ' Touareg'\n",
            " ' Arteon' ' Touran' ' Golf SV' ' Amarok' ' Tiguan Allspace' ' Shuttle'\n",
            " ' Jetta' ' CC' ' California' ' Caddy Life' ' Caddy' ' Caddy Maxi' ' Eos'\n",
            " ' Fox']\n"
          ]
        }
      ]
    },
    {
      "cell_type": "markdown",
      "id": "ea2197ed",
      "metadata": {
        "papermill": {
          "duration": 0.023648,
          "end_time": "2022-05-24T07:29:42.507680",
          "exception": false,
          "start_time": "2022-05-24T07:29:42.484032",
          "status": "completed"
        },
        "tags": [],
        "id": "ea2197ed"
      },
      "source": [
        "## Data Preprocessing"
      ]
    },
    {
      "cell_type": "code",
      "execution_count": null,
      "id": "cb3b09c0",
      "metadata": {
        "execution": {
          "iopub.execute_input": "2022-05-24T07:29:42.557697Z",
          "iopub.status.busy": "2022-05-24T07:29:42.557001Z",
          "iopub.status.idle": "2022-05-24T07:29:42.582896Z",
          "shell.execute_reply": "2022-05-24T07:29:42.582187Z"
        },
        "papermill": {
          "duration": 0.053235,
          "end_time": "2022-05-24T07:29:42.584884",
          "exception": false,
          "start_time": "2022-05-24T07:29:42.531649",
          "status": "completed"
        },
        "tags": [],
        "id": "cb3b09c0"
      },
      "outputs": [],
      "source": [
        "# Concatenating imported dataframes\n",
        "df = pd.concat([df_audi, df_bmw, df_ford, df_hyundai, df_merc, df_toyota, df_vw])"
      ]
    },
    {
      "cell_type": "code",
      "execution_count": null,
      "id": "55629697",
      "metadata": {
        "execution": {
          "iopub.execute_input": "2022-05-24T07:29:42.718823Z",
          "iopub.status.busy": "2022-05-24T07:29:42.717937Z",
          "iopub.status.idle": "2022-05-24T07:29:42.756982Z",
          "shell.execute_reply": "2022-05-24T07:29:42.756065Z"
        },
        "papermill": {
          "duration": 0.067626,
          "end_time": "2022-05-24T07:29:42.759441",
          "exception": false,
          "start_time": "2022-05-24T07:29:42.691815",
          "status": "completed"
        },
        "tags": [],
        "id": "55629697"
      },
      "outputs": [],
      "source": [
        "# Dropping unnecessary columns\n",
        "df = df.drop(columns=[\"tax(£)\"])"
      ]
    },
    {
      "cell_type": "code",
      "execution_count": null,
      "id": "dcb7e565",
      "metadata": {
        "execution": {
          "iopub.execute_input": "2022-05-24T07:29:42.817646Z",
          "iopub.status.busy": "2022-05-24T07:29:42.816942Z",
          "iopub.status.idle": "2022-05-24T07:29:42.845738Z",
          "shell.execute_reply": "2022-05-24T07:29:42.844872Z"
        },
        "papermill": {
          "duration": 0.061279,
          "end_time": "2022-05-24T07:29:42.848696",
          "exception": false,
          "start_time": "2022-05-24T07:29:42.787417",
          "status": "completed"
        },
        "tags": [],
        "id": "dcb7e565"
      },
      "outputs": [],
      "source": [
        "df[\"car_model\"] = df[\"brand\"] + \"\" + df[\"model\"]"
      ]
    },
    {
      "cell_type": "code",
      "source": [
        "df"
      ],
      "metadata": {
        "colab": {
          "base_uri": "https://localhost:8080/",
          "height": 488
        },
        "id": "MdGdqZ6MQMbM",
        "outputId": "f03866b2-c0fc-4b13-d941-be55511ccbb3"
      },
      "id": "MdGdqZ6MQMbM",
      "execution_count": null,
      "outputs": [
        {
          "output_type": "execute_result",
          "data": {
            "text/plain": [
              "      model  year  price transmission  mileage fuelType    tax   mpg  \\\n",
              "0        A1  2017  12500       Manual    15735   Petrol  150.0  55.4   \n",
              "1        A6  2016  16500    Automatic    36203   Diesel   20.0  64.2   \n",
              "2        A1  2016  11000       Manual    29946   Petrol   30.0  55.4   \n",
              "3        A4  2017  16800    Automatic    25952   Diesel  145.0  67.3   \n",
              "4        A3  2019  17300       Manual     1998   Petrol  145.0  49.6   \n",
              "...     ...   ...    ...          ...      ...      ...    ...   ...   \n",
              "15152   Eos  2012   5990       Manual    74000   Diesel  125.0  58.9   \n",
              "15153   Fox  2008   1799       Manual    88102   Petrol  145.0  46.3   \n",
              "15154   Fox  2009   1590       Manual    70000   Petrol  200.0  42.0   \n",
              "15155   Fox  2006   1250       Manual    82704   Petrol  150.0  46.3   \n",
              "15156   Fox  2007   2295       Manual    74000   Petrol  145.0  46.3   \n",
              "\n",
              "       engineSize brand car_model  \n",
              "0             1.4  Audi   Audi A1  \n",
              "1             2.0  Audi   Audi A6  \n",
              "2             1.4  Audi   Audi A1  \n",
              "3             2.0  Audi   Audi A4  \n",
              "4             1.0  Audi   Audi A3  \n",
              "...           ...   ...       ...  \n",
              "15152         2.0    VW    VW Eos  \n",
              "15153         1.2    VW    VW Fox  \n",
              "15154         1.4    VW    VW Fox  \n",
              "15155         1.2    VW    VW Fox  \n",
              "15156         1.2    VW    VW Fox  \n",
              "\n",
              "[79288 rows x 11 columns]"
            ],
            "text/html": [
              "\n",
              "  <div id=\"df-4d1654b2-8e77-4635-987e-76c0512d5fc1\">\n",
              "    <div class=\"colab-df-container\">\n",
              "      <div>\n",
              "<style scoped>\n",
              "    .dataframe tbody tr th:only-of-type {\n",
              "        vertical-align: middle;\n",
              "    }\n",
              "\n",
              "    .dataframe tbody tr th {\n",
              "        vertical-align: top;\n",
              "    }\n",
              "\n",
              "    .dataframe thead th {\n",
              "        text-align: right;\n",
              "    }\n",
              "</style>\n",
              "<table border=\"1\" class=\"dataframe\">\n",
              "  <thead>\n",
              "    <tr style=\"text-align: right;\">\n",
              "      <th></th>\n",
              "      <th>model</th>\n",
              "      <th>year</th>\n",
              "      <th>price</th>\n",
              "      <th>transmission</th>\n",
              "      <th>mileage</th>\n",
              "      <th>fuelType</th>\n",
              "      <th>tax</th>\n",
              "      <th>mpg</th>\n",
              "      <th>engineSize</th>\n",
              "      <th>brand</th>\n",
              "      <th>car_model</th>\n",
              "    </tr>\n",
              "  </thead>\n",
              "  <tbody>\n",
              "    <tr>\n",
              "      <th>0</th>\n",
              "      <td>A1</td>\n",
              "      <td>2017</td>\n",
              "      <td>12500</td>\n",
              "      <td>Manual</td>\n",
              "      <td>15735</td>\n",
              "      <td>Petrol</td>\n",
              "      <td>150.0</td>\n",
              "      <td>55.4</td>\n",
              "      <td>1.4</td>\n",
              "      <td>Audi</td>\n",
              "      <td>Audi A1</td>\n",
              "    </tr>\n",
              "    <tr>\n",
              "      <th>1</th>\n",
              "      <td>A6</td>\n",
              "      <td>2016</td>\n",
              "      <td>16500</td>\n",
              "      <td>Automatic</td>\n",
              "      <td>36203</td>\n",
              "      <td>Diesel</td>\n",
              "      <td>20.0</td>\n",
              "      <td>64.2</td>\n",
              "      <td>2.0</td>\n",
              "      <td>Audi</td>\n",
              "      <td>Audi A6</td>\n",
              "    </tr>\n",
              "    <tr>\n",
              "      <th>2</th>\n",
              "      <td>A1</td>\n",
              "      <td>2016</td>\n",
              "      <td>11000</td>\n",
              "      <td>Manual</td>\n",
              "      <td>29946</td>\n",
              "      <td>Petrol</td>\n",
              "      <td>30.0</td>\n",
              "      <td>55.4</td>\n",
              "      <td>1.4</td>\n",
              "      <td>Audi</td>\n",
              "      <td>Audi A1</td>\n",
              "    </tr>\n",
              "    <tr>\n",
              "      <th>3</th>\n",
              "      <td>A4</td>\n",
              "      <td>2017</td>\n",
              "      <td>16800</td>\n",
              "      <td>Automatic</td>\n",
              "      <td>25952</td>\n",
              "      <td>Diesel</td>\n",
              "      <td>145.0</td>\n",
              "      <td>67.3</td>\n",
              "      <td>2.0</td>\n",
              "      <td>Audi</td>\n",
              "      <td>Audi A4</td>\n",
              "    </tr>\n",
              "    <tr>\n",
              "      <th>4</th>\n",
              "      <td>A3</td>\n",
              "      <td>2019</td>\n",
              "      <td>17300</td>\n",
              "      <td>Manual</td>\n",
              "      <td>1998</td>\n",
              "      <td>Petrol</td>\n",
              "      <td>145.0</td>\n",
              "      <td>49.6</td>\n",
              "      <td>1.0</td>\n",
              "      <td>Audi</td>\n",
              "      <td>Audi A3</td>\n",
              "    </tr>\n",
              "    <tr>\n",
              "      <th>...</th>\n",
              "      <td>...</td>\n",
              "      <td>...</td>\n",
              "      <td>...</td>\n",
              "      <td>...</td>\n",
              "      <td>...</td>\n",
              "      <td>...</td>\n",
              "      <td>...</td>\n",
              "      <td>...</td>\n",
              "      <td>...</td>\n",
              "      <td>...</td>\n",
              "      <td>...</td>\n",
              "    </tr>\n",
              "    <tr>\n",
              "      <th>15152</th>\n",
              "      <td>Eos</td>\n",
              "      <td>2012</td>\n",
              "      <td>5990</td>\n",
              "      <td>Manual</td>\n",
              "      <td>74000</td>\n",
              "      <td>Diesel</td>\n",
              "      <td>125.0</td>\n",
              "      <td>58.9</td>\n",
              "      <td>2.0</td>\n",
              "      <td>VW</td>\n",
              "      <td>VW Eos</td>\n",
              "    </tr>\n",
              "    <tr>\n",
              "      <th>15153</th>\n",
              "      <td>Fox</td>\n",
              "      <td>2008</td>\n",
              "      <td>1799</td>\n",
              "      <td>Manual</td>\n",
              "      <td>88102</td>\n",
              "      <td>Petrol</td>\n",
              "      <td>145.0</td>\n",
              "      <td>46.3</td>\n",
              "      <td>1.2</td>\n",
              "      <td>VW</td>\n",
              "      <td>VW Fox</td>\n",
              "    </tr>\n",
              "    <tr>\n",
              "      <th>15154</th>\n",
              "      <td>Fox</td>\n",
              "      <td>2009</td>\n",
              "      <td>1590</td>\n",
              "      <td>Manual</td>\n",
              "      <td>70000</td>\n",
              "      <td>Petrol</td>\n",
              "      <td>200.0</td>\n",
              "      <td>42.0</td>\n",
              "      <td>1.4</td>\n",
              "      <td>VW</td>\n",
              "      <td>VW Fox</td>\n",
              "    </tr>\n",
              "    <tr>\n",
              "      <th>15155</th>\n",
              "      <td>Fox</td>\n",
              "      <td>2006</td>\n",
              "      <td>1250</td>\n",
              "      <td>Manual</td>\n",
              "      <td>82704</td>\n",
              "      <td>Petrol</td>\n",
              "      <td>150.0</td>\n",
              "      <td>46.3</td>\n",
              "      <td>1.2</td>\n",
              "      <td>VW</td>\n",
              "      <td>VW Fox</td>\n",
              "    </tr>\n",
              "    <tr>\n",
              "      <th>15156</th>\n",
              "      <td>Fox</td>\n",
              "      <td>2007</td>\n",
              "      <td>2295</td>\n",
              "      <td>Manual</td>\n",
              "      <td>74000</td>\n",
              "      <td>Petrol</td>\n",
              "      <td>145.0</td>\n",
              "      <td>46.3</td>\n",
              "      <td>1.2</td>\n",
              "      <td>VW</td>\n",
              "      <td>VW Fox</td>\n",
              "    </tr>\n",
              "  </tbody>\n",
              "</table>\n",
              "<p>79288 rows × 11 columns</p>\n",
              "</div>\n",
              "      <button class=\"colab-df-convert\" onclick=\"convertToInteractive('df-4d1654b2-8e77-4635-987e-76c0512d5fc1')\"\n",
              "              title=\"Convert this dataframe to an interactive table.\"\n",
              "              style=\"display:none;\">\n",
              "        \n",
              "  <svg xmlns=\"http://www.w3.org/2000/svg\" height=\"24px\"viewBox=\"0 0 24 24\"\n",
              "       width=\"24px\">\n",
              "    <path d=\"M0 0h24v24H0V0z\" fill=\"none\"/>\n",
              "    <path d=\"M18.56 5.44l.94 2.06.94-2.06 2.06-.94-2.06-.94-.94-2.06-.94 2.06-2.06.94zm-11 1L8.5 8.5l.94-2.06 2.06-.94-2.06-.94L8.5 2.5l-.94 2.06-2.06.94zm10 10l.94 2.06.94-2.06 2.06-.94-2.06-.94-.94-2.06-.94 2.06-2.06.94z\"/><path d=\"M17.41 7.96l-1.37-1.37c-.4-.4-.92-.59-1.43-.59-.52 0-1.04.2-1.43.59L10.3 9.45l-7.72 7.72c-.78.78-.78 2.05 0 2.83L4 21.41c.39.39.9.59 1.41.59.51 0 1.02-.2 1.41-.59l7.78-7.78 2.81-2.81c.8-.78.8-2.07 0-2.86zM5.41 20L4 18.59l7.72-7.72 1.47 1.35L5.41 20z\"/>\n",
              "  </svg>\n",
              "      </button>\n",
              "      \n",
              "  <style>\n",
              "    .colab-df-container {\n",
              "      display:flex;\n",
              "      flex-wrap:wrap;\n",
              "      gap: 12px;\n",
              "    }\n",
              "\n",
              "    .colab-df-convert {\n",
              "      background-color: #E8F0FE;\n",
              "      border: none;\n",
              "      border-radius: 50%;\n",
              "      cursor: pointer;\n",
              "      display: none;\n",
              "      fill: #1967D2;\n",
              "      height: 32px;\n",
              "      padding: 0 0 0 0;\n",
              "      width: 32px;\n",
              "    }\n",
              "\n",
              "    .colab-df-convert:hover {\n",
              "      background-color: #E2EBFA;\n",
              "      box-shadow: 0px 1px 2px rgba(60, 64, 67, 0.3), 0px 1px 3px 1px rgba(60, 64, 67, 0.15);\n",
              "      fill: #174EA6;\n",
              "    }\n",
              "\n",
              "    [theme=dark] .colab-df-convert {\n",
              "      background-color: #3B4455;\n",
              "      fill: #D2E3FC;\n",
              "    }\n",
              "\n",
              "    [theme=dark] .colab-df-convert:hover {\n",
              "      background-color: #434B5C;\n",
              "      box-shadow: 0px 1px 3px 1px rgba(0, 0, 0, 0.15);\n",
              "      filter: drop-shadow(0px 1px 2px rgba(0, 0, 0, 0.3));\n",
              "      fill: #FFFFFF;\n",
              "    }\n",
              "  </style>\n",
              "\n",
              "      <script>\n",
              "        const buttonEl =\n",
              "          document.querySelector('#df-4d1654b2-8e77-4635-987e-76c0512d5fc1 button.colab-df-convert');\n",
              "        buttonEl.style.display =\n",
              "          google.colab.kernel.accessAllowed ? 'block' : 'none';\n",
              "\n",
              "        async function convertToInteractive(key) {\n",
              "          const element = document.querySelector('#df-4d1654b2-8e77-4635-987e-76c0512d5fc1');\n",
              "          const dataTable =\n",
              "            await google.colab.kernel.invokeFunction('convertToInteractive',\n",
              "                                                     [key], {});\n",
              "          if (!dataTable) return;\n",
              "\n",
              "          const docLinkHtml = 'Like what you see? Visit the ' +\n",
              "            '<a target=\"_blank\" href=https://colab.research.google.com/notebooks/data_table.ipynb>data table notebook</a>'\n",
              "            + ' to learn more about interactive tables.';\n",
              "          element.innerHTML = '';\n",
              "          dataTable['output_type'] = 'display_data';\n",
              "          await google.colab.output.renderOutput(dataTable, element);\n",
              "          const docLink = document.createElement('div');\n",
              "          docLink.innerHTML = docLinkHtml;\n",
              "          element.appendChild(docLink);\n",
              "        }\n",
              "      </script>\n",
              "    </div>\n",
              "  </div>\n",
              "  "
            ]
          },
          "metadata": {},
          "execution_count": 11
        }
      ]
    },
    {
      "cell_type": "code",
      "source": [
        "df.to_csv('cleaned_df.csv')"
      ],
      "metadata": {
        "id": "cJ-tt8qe7YnK"
      },
      "id": "cJ-tt8qe7YnK",
      "execution_count": null,
      "outputs": []
    },
    {
      "cell_type": "code",
      "source": [
        "df = df.drop(columns=[\"brand\", \"model\"])"
      ],
      "metadata": {
        "id": "L3z84aUgQQH1"
      },
      "id": "L3z84aUgQQH1",
      "execution_count": null,
      "outputs": []
    },
    {
      "cell_type": "code",
      "execution_count": null,
      "id": "cdad9fcf",
      "metadata": {
        "execution": {
          "iopub.execute_input": "2022-05-24T07:29:42.958776Z",
          "iopub.status.busy": "2022-05-24T07:29:42.958410Z",
          "iopub.status.idle": "2022-05-24T07:29:43.071801Z",
          "shell.execute_reply": "2022-05-24T07:29:43.070866Z"
        },
        "papermill": {
          "duration": 0.142886,
          "end_time": "2022-05-24T07:29:43.074563",
          "exception": false,
          "start_time": "2022-05-24T07:29:42.931677",
          "status": "completed"
        },
        "tags": [],
        "colab": {
          "base_uri": "https://localhost:8080/"
        },
        "id": "cdad9fcf",
        "outputId": "280d70ef-01d6-49cb-fb65-739875dd1307"
      },
      "outputs": [
        {
          "output_type": "stream",
          "name": "stdout",
          "text": [
            "{'Audi A1': 0, 'Audi A2': 1, 'Audi A3': 2, 'Audi A4': 3, 'Audi A5': 4, 'Audi A6': 5, 'Audi A7': 6, 'Audi A8': 7, 'Audi Q2': 8, 'Audi Q3': 9, 'Audi Q5': 10, 'Audi Q7': 11, 'Audi Q8': 12, 'Audi R8': 13, 'Audi RS3': 14, 'Audi RS4': 15, 'Audi RS5': 16, 'Audi RS6': 17, 'Audi RS7': 18, 'Audi S3': 19, 'Audi S4': 20, 'Audi S5': 21, 'Audi S8': 22, 'Audi SQ5': 23, 'Audi SQ7': 24, 'Audi TT': 25, 'BMW 1 Series': 26, 'BMW 2 Series': 27, 'BMW 3 Series': 28, 'BMW 4 Series': 29, 'BMW 5 Series': 30, 'BMW 6 Series': 31, 'BMW 7 Series': 32, 'BMW 8 Series': 33, 'BMW M2': 34, 'BMW M3': 35, 'BMW M4': 36, 'BMW M5': 37, 'BMW M6': 38, 'BMW X1': 39, 'BMW X2': 40, 'BMW X3': 41, 'BMW X4': 42, 'BMW X5': 43, 'BMW X6': 44, 'BMW X7': 45, 'BMW Z3': 46, 'BMW Z4': 47, 'BMW i3': 48, 'BMW i8': 49, 'Ford B-MAX': 50, 'Ford C-MAX': 51, 'Ford EcoSport': 52, 'Ford Edge': 53, 'Ford Escort': 54, 'Ford Fiesta': 55, 'Ford Focus': 56, 'Ford Fusion': 57, 'Ford Galaxy': 58, 'Ford Grand C-MAX': 59, 'Ford Grand Tourneo Connect': 60, 'Ford KA': 61, 'Ford Ka+': 62, 'Ford Kuga': 63, 'Ford Mondeo': 64, 'Ford Mustang': 65, 'Ford Puma': 66, 'Ford Ranger': 67, 'Ford S-MAX': 68, 'Ford Streetka': 69, 'Ford Tourneo Connect': 70, 'Ford Tourneo Custom': 71, 'Ford Transit Tourneo': 72, 'Hyundai Accent': 73, 'Hyundai Amica': 74, 'Hyundai Getz': 75, 'Hyundai I10': 76, 'Hyundai I20': 77, 'Hyundai I30': 78, 'Hyundai I40': 79, 'Hyundai I800': 80, 'Hyundai IX20': 81, 'Hyundai IX35': 82, 'Hyundai Ioniq': 83, 'Hyundai Kona': 84, 'Hyundai Santa Fe': 85, 'Hyundai Terracan': 86, 'Hyundai Tucson': 87, 'Hyundai Veloster': 88, 'Mercedes A Class': 89, 'Mercedes B Class': 90, 'Mercedes C Class': 91, 'Mercedes CL Class': 92, 'Mercedes CLA Class': 93, 'Mercedes CLC Class': 94, 'Mercedes CLK': 95, 'Mercedes CLS Class': 96, 'Mercedes E Class': 97, 'Mercedes G Class': 98, 'Mercedes GL Class': 99, 'Mercedes GLA Class': 100, 'Mercedes GLB Class': 101, 'Mercedes GLC Class': 102, 'Mercedes GLE Class': 103, 'Mercedes GLS Class': 104, 'Mercedes M Class': 105, 'Mercedes R Class': 106, 'Mercedes S Class': 107, 'Mercedes SL CLASS': 108, 'Mercedes SLK': 109, 'Mercedes V Class': 110, 'Mercedes X-CLASS': 111, 'Mercedes180': 112, 'Mercedes200': 113, 'Mercedes220': 114, 'Mercedes230': 115, 'Toyota Auris': 116, 'Toyota Avensis': 117, 'Toyota Aygo': 118, 'Toyota C-HR': 119, 'Toyota Camry': 120, 'Toyota Corolla': 121, 'Toyota GT86': 122, 'Toyota Hilux': 123, 'Toyota IQ': 124, 'Toyota Land Cruiser': 125, 'Toyota PROACE VERSO': 126, 'Toyota Prius': 127, 'Toyota RAV4': 128, 'Toyota Supra': 129, 'Toyota Urban Cruiser': 130, 'Toyota Verso': 131, 'Toyota Verso-S': 132, 'Toyota Yaris': 133, 'VW Amarok': 134, 'VW Arteon': 135, 'VW Beetle': 136, 'VW CC': 137, 'VW Caddy': 138, 'VW Caddy Life': 139, 'VW Caddy Maxi': 140, 'VW Caddy Maxi Life': 141, 'VW California': 142, 'VW Caravelle': 143, 'VW Eos': 144, 'VW Fox': 145, 'VW Golf': 146, 'VW Golf SV': 147, 'VW Jetta': 148, 'VW Passat': 149, 'VW Polo': 150, 'VW Scirocco': 151, 'VW Sharan': 152, 'VW Shuttle': 153, 'VW T-Cross': 154, 'VW T-Roc': 155, 'VW Tiguan': 156, 'VW Tiguan Allspace': 157, 'VW Touareg': 158, 'VW Touran': 159, 'VW Up': 160}\n",
            "{1970: 0, 1996: 1, 1997: 2, 1998: 3, 1999: 4, 2000: 5, 2001: 6, 2002: 7, 2003: 8, 2004: 9, 2005: 10, 2006: 11, 2007: 12, 2008: 13, 2009: 14, 2010: 15, 2011: 16, 2012: 17, 2013: 18, 2014: 19, 2015: 20, 2016: 21, 2017: 22, 2018: 23, 2019: 24, 2020: 25, 2060: 26}\n",
            "{'Automatic': 0, 'Manual': 1, 'Other': 2, 'Semi-Auto': 3}\n",
            "{'Diesel': 0, 'Electric': 1, 'Hybrid': 2, 'Other': 3, 'Petrol': 4}\n"
          ]
        }
      ],
      "source": [
        "# One Hot Encoding categorical data\n",
        "from sklearn.preprocessing import LabelEncoder, OneHotEncoder\n",
        "\n",
        "le = LabelEncoder()\n",
        "\n",
        "df[\"car_model\"] = le.fit_transform(df[\"car_model\"])\n",
        "le_map = dict(zip(le.classes_, le.transform(le.classes_)))\n",
        "print(le_map)\n",
        "\n",
        "df[\"year\"] = le.fit_transform(df[\"year\"])\n",
        "le_map = dict(zip(le.classes_, le.transform(le.classes_)))\n",
        "print(le_map)\n",
        "\n",
        "df[\"transmission\"] = le.fit_transform(df[\"transmission\"])\n",
        "le_map = dict(zip(le.classes_, le.transform(le.classes_)))\n",
        "print(le_map)\n",
        "\n",
        "df[\"fuelType\"] = le.fit_transform(df[\"fuelType\"])\n",
        "le_map = dict(zip(le.classes_, le.transform(le.classes_)))\n",
        "print(le_map)"
      ]
    },
    {
      "cell_type": "code",
      "source": [
        "df.head()"
      ],
      "metadata": {
        "colab": {
          "base_uri": "https://localhost:8080/",
          "height": 270
        },
        "id": "Rgfm0Oz5UC4s",
        "outputId": "57c40ee7-67ea-4a33-f486-eb6e567b3f0b"
      },
      "id": "Rgfm0Oz5UC4s",
      "execution_count": null,
      "outputs": [
        {
          "output_type": "execute_result",
          "data": {
            "text/plain": [
              "   year  price  transmission  mileage  fuelType    tax   mpg  engineSize  \\\n",
              "0    22  12500             1    15735         4  150.0  55.4         1.4   \n",
              "1    21  16500             0    36203         0   20.0  64.2         2.0   \n",
              "2    21  11000             1    29946         4   30.0  55.4         1.4   \n",
              "3    22  16800             0    25952         0  145.0  67.3         2.0   \n",
              "4    24  17300             1     1998         4  145.0  49.6         1.0   \n",
              "\n",
              "   car_model  \n",
              "0          0  \n",
              "1          5  \n",
              "2          0  \n",
              "3          3  \n",
              "4          2  "
            ],
            "text/html": [
              "\n",
              "  <div id=\"df-14bfc6f5-bdd7-46ba-a96a-f1fa3ea6b7c4\">\n",
              "    <div class=\"colab-df-container\">\n",
              "      <div>\n",
              "<style scoped>\n",
              "    .dataframe tbody tr th:only-of-type {\n",
              "        vertical-align: middle;\n",
              "    }\n",
              "\n",
              "    .dataframe tbody tr th {\n",
              "        vertical-align: top;\n",
              "    }\n",
              "\n",
              "    .dataframe thead th {\n",
              "        text-align: right;\n",
              "    }\n",
              "</style>\n",
              "<table border=\"1\" class=\"dataframe\">\n",
              "  <thead>\n",
              "    <tr style=\"text-align: right;\">\n",
              "      <th></th>\n",
              "      <th>year</th>\n",
              "      <th>price</th>\n",
              "      <th>transmission</th>\n",
              "      <th>mileage</th>\n",
              "      <th>fuelType</th>\n",
              "      <th>tax</th>\n",
              "      <th>mpg</th>\n",
              "      <th>engineSize</th>\n",
              "      <th>car_model</th>\n",
              "    </tr>\n",
              "  </thead>\n",
              "  <tbody>\n",
              "    <tr>\n",
              "      <th>0</th>\n",
              "      <td>22</td>\n",
              "      <td>12500</td>\n",
              "      <td>1</td>\n",
              "      <td>15735</td>\n",
              "      <td>4</td>\n",
              "      <td>150.0</td>\n",
              "      <td>55.4</td>\n",
              "      <td>1.4</td>\n",
              "      <td>0</td>\n",
              "    </tr>\n",
              "    <tr>\n",
              "      <th>1</th>\n",
              "      <td>21</td>\n",
              "      <td>16500</td>\n",
              "      <td>0</td>\n",
              "      <td>36203</td>\n",
              "      <td>0</td>\n",
              "      <td>20.0</td>\n",
              "      <td>64.2</td>\n",
              "      <td>2.0</td>\n",
              "      <td>5</td>\n",
              "    </tr>\n",
              "    <tr>\n",
              "      <th>2</th>\n",
              "      <td>21</td>\n",
              "      <td>11000</td>\n",
              "      <td>1</td>\n",
              "      <td>29946</td>\n",
              "      <td>4</td>\n",
              "      <td>30.0</td>\n",
              "      <td>55.4</td>\n",
              "      <td>1.4</td>\n",
              "      <td>0</td>\n",
              "    </tr>\n",
              "    <tr>\n",
              "      <th>3</th>\n",
              "      <td>22</td>\n",
              "      <td>16800</td>\n",
              "      <td>0</td>\n",
              "      <td>25952</td>\n",
              "      <td>0</td>\n",
              "      <td>145.0</td>\n",
              "      <td>67.3</td>\n",
              "      <td>2.0</td>\n",
              "      <td>3</td>\n",
              "    </tr>\n",
              "    <tr>\n",
              "      <th>4</th>\n",
              "      <td>24</td>\n",
              "      <td>17300</td>\n",
              "      <td>1</td>\n",
              "      <td>1998</td>\n",
              "      <td>4</td>\n",
              "      <td>145.0</td>\n",
              "      <td>49.6</td>\n",
              "      <td>1.0</td>\n",
              "      <td>2</td>\n",
              "    </tr>\n",
              "  </tbody>\n",
              "</table>\n",
              "</div>\n",
              "      <button class=\"colab-df-convert\" onclick=\"convertToInteractive('df-14bfc6f5-bdd7-46ba-a96a-f1fa3ea6b7c4')\"\n",
              "              title=\"Convert this dataframe to an interactive table.\"\n",
              "              style=\"display:none;\">\n",
              "        \n",
              "  <svg xmlns=\"http://www.w3.org/2000/svg\" height=\"24px\"viewBox=\"0 0 24 24\"\n",
              "       width=\"24px\">\n",
              "    <path d=\"M0 0h24v24H0V0z\" fill=\"none\"/>\n",
              "    <path d=\"M18.56 5.44l.94 2.06.94-2.06 2.06-.94-2.06-.94-.94-2.06-.94 2.06-2.06.94zm-11 1L8.5 8.5l.94-2.06 2.06-.94-2.06-.94L8.5 2.5l-.94 2.06-2.06.94zm10 10l.94 2.06.94-2.06 2.06-.94-2.06-.94-.94-2.06-.94 2.06-2.06.94z\"/><path d=\"M17.41 7.96l-1.37-1.37c-.4-.4-.92-.59-1.43-.59-.52 0-1.04.2-1.43.59L10.3 9.45l-7.72 7.72c-.78.78-.78 2.05 0 2.83L4 21.41c.39.39.9.59 1.41.59.51 0 1.02-.2 1.41-.59l7.78-7.78 2.81-2.81c.8-.78.8-2.07 0-2.86zM5.41 20L4 18.59l7.72-7.72 1.47 1.35L5.41 20z\"/>\n",
              "  </svg>\n",
              "      </button>\n",
              "      \n",
              "  <style>\n",
              "    .colab-df-container {\n",
              "      display:flex;\n",
              "      flex-wrap:wrap;\n",
              "      gap: 12px;\n",
              "    }\n",
              "\n",
              "    .colab-df-convert {\n",
              "      background-color: #E8F0FE;\n",
              "      border: none;\n",
              "      border-radius: 50%;\n",
              "      cursor: pointer;\n",
              "      display: none;\n",
              "      fill: #1967D2;\n",
              "      height: 32px;\n",
              "      padding: 0 0 0 0;\n",
              "      width: 32px;\n",
              "    }\n",
              "\n",
              "    .colab-df-convert:hover {\n",
              "      background-color: #E2EBFA;\n",
              "      box-shadow: 0px 1px 2px rgba(60, 64, 67, 0.3), 0px 1px 3px 1px rgba(60, 64, 67, 0.15);\n",
              "      fill: #174EA6;\n",
              "    }\n",
              "\n",
              "    [theme=dark] .colab-df-convert {\n",
              "      background-color: #3B4455;\n",
              "      fill: #D2E3FC;\n",
              "    }\n",
              "\n",
              "    [theme=dark] .colab-df-convert:hover {\n",
              "      background-color: #434B5C;\n",
              "      box-shadow: 0px 1px 3px 1px rgba(0, 0, 0, 0.15);\n",
              "      filter: drop-shadow(0px 1px 2px rgba(0, 0, 0, 0.3));\n",
              "      fill: #FFFFFF;\n",
              "    }\n",
              "  </style>\n",
              "\n",
              "      <script>\n",
              "        const buttonEl =\n",
              "          document.querySelector('#df-14bfc6f5-bdd7-46ba-a96a-f1fa3ea6b7c4 button.colab-df-convert');\n",
              "        buttonEl.style.display =\n",
              "          google.colab.kernel.accessAllowed ? 'block' : 'none';\n",
              "\n",
              "        async function convertToInteractive(key) {\n",
              "          const element = document.querySelector('#df-14bfc6f5-bdd7-46ba-a96a-f1fa3ea6b7c4');\n",
              "          const dataTable =\n",
              "            await google.colab.kernel.invokeFunction('convertToInteractive',\n",
              "                                                     [key], {});\n",
              "          if (!dataTable) return;\n",
              "\n",
              "          const docLinkHtml = 'Like what you see? Visit the ' +\n",
              "            '<a target=\"_blank\" href=https://colab.research.google.com/notebooks/data_table.ipynb>data table notebook</a>'\n",
              "            + ' to learn more about interactive tables.';\n",
              "          element.innerHTML = '';\n",
              "          dataTable['output_type'] = 'display_data';\n",
              "          await google.colab.output.renderOutput(dataTable, element);\n",
              "          const docLink = document.createElement('div');\n",
              "          docLink.innerHTML = docLinkHtml;\n",
              "          element.appendChild(docLink);\n",
              "        }\n",
              "      </script>\n",
              "    </div>\n",
              "  </div>\n",
              "  "
            ]
          },
          "metadata": {},
          "execution_count": 16
        }
      ]
    },
    {
      "cell_type": "markdown",
      "id": "5751b0d7",
      "metadata": {
        "papermill": {
          "duration": 0.033448,
          "end_time": "2022-05-24T07:29:43.598344",
          "exception": false,
          "start_time": "2022-05-24T07:29:43.564896",
          "status": "completed"
        },
        "tags": [],
        "id": "5751b0d7"
      },
      "source": [
        "## Modeling and Validating"
      ]
    },
    {
      "cell_type": "code",
      "execution_count": null,
      "id": "9e4417e8",
      "metadata": {
        "execution": {
          "iopub.execute_input": "2022-05-24T07:29:43.667226Z",
          "iopub.status.busy": "2022-05-24T07:29:43.666450Z",
          "iopub.status.idle": "2022-05-24T07:29:43.684187Z",
          "shell.execute_reply": "2022-05-24T07:29:43.683333Z"
        },
        "papermill": {
          "duration": 0.054905,
          "end_time": "2022-05-24T07:29:43.686643",
          "exception": false,
          "start_time": "2022-05-24T07:29:43.631738",
          "status": "completed"
        },
        "tags": [],
        "id": "9e4417e8"
      },
      "outputs": [],
      "source": [
        "X = df.drop(columns=\"price\")\n",
        "y = df[\"price\"]"
      ]
    },
    {
      "cell_type": "code",
      "source": [
        "!pip install xgboost==1.6.1"
      ],
      "metadata": {
        "id": "pLmuPWWzzanS",
        "colab": {
          "base_uri": "https://localhost:8080/"
        },
        "outputId": "0b31919d-d4f6-4c87-df0b-52bf587358de"
      },
      "id": "pLmuPWWzzanS",
      "execution_count": null,
      "outputs": [
        {
          "output_type": "stream",
          "name": "stdout",
          "text": [
            "Looking in indexes: https://pypi.org/simple, https://us-python.pkg.dev/colab-wheels/public/simple/\n",
            "Collecting xgboost==1.6.1\n",
            "  Downloading xgboost-1.6.1-py3-none-manylinux2014_x86_64.whl (192.9 MB)\n",
            "\u001b[K     |████████████████████████████████| 192.9 MB 68 kB/s \n",
            "\u001b[?25hRequirement already satisfied: scipy in /usr/local/lib/python3.7/dist-packages (from xgboost==1.6.1) (1.4.1)\n",
            "Requirement already satisfied: numpy in /usr/local/lib/python3.7/dist-packages (from xgboost==1.6.1) (1.21.6)\n",
            "Installing collected packages: xgboost\n",
            "  Attempting uninstall: xgboost\n",
            "    Found existing installation: xgboost 0.90\n",
            "    Uninstalling xgboost-0.90:\n",
            "      Successfully uninstalled xgboost-0.90\n",
            "Successfully installed xgboost-1.6.1\n"
          ]
        }
      ]
    },
    {
      "cell_type": "code",
      "execution_count": null,
      "id": "bcd84243",
      "metadata": {
        "execution": {
          "iopub.execute_input": "2022-05-24T07:29:43.756812Z",
          "iopub.status.busy": "2022-05-24T07:29:43.755852Z",
          "iopub.status.idle": "2022-05-24T07:29:45.079579Z",
          "shell.execute_reply": "2022-05-24T07:29:45.078780Z"
        },
        "papermill": {
          "duration": 1.361436,
          "end_time": "2022-05-24T07:29:45.082015",
          "exception": false,
          "start_time": "2022-05-24T07:29:43.720579",
          "status": "completed"
        },
        "tags": [],
        "id": "bcd84243"
      },
      "outputs": [],
      "source": [
        "from sklearn.metrics import make_scorer, accuracy_score, precision_score, recall_score, f1_score\n",
        "from sklearn.model_selection import train_test_split, KFold, cross_validate, cross_val_predict\n",
        "import matplotlib.pyplot as plt\n",
        "\n",
        "from xgboost import XGBRegressor\n",
        "\n",
        "from sklearn.model_selection import GridSearchCV\n",
        "\n",
        "from sklearn.metrics import mean_squared_error\n",
        "from sklearn.metrics import mean_absolute_error\n",
        "from sklearn.metrics import r2_score"
      ]
    },
    {
      "cell_type": "code",
      "execution_count": null,
      "id": "fc00bace",
      "metadata": {
        "execution": {
          "iopub.execute_input": "2022-05-24T07:29:45.137653Z",
          "iopub.status.busy": "2022-05-24T07:29:45.137209Z",
          "iopub.status.idle": "2022-05-24T07:29:45.144944Z",
          "shell.execute_reply": "2022-05-24T07:29:45.144050Z"
        },
        "papermill": {
          "duration": 0.037454,
          "end_time": "2022-05-24T07:29:45.147248",
          "exception": false,
          "start_time": "2022-05-24T07:29:45.109794",
          "status": "completed"
        },
        "tags": [],
        "id": "fc00bace"
      },
      "outputs": [],
      "source": [
        "# Hyperparameter Tuning\n",
        "def hyperParameterTuning(X_train, y_train):\n",
        "    param_tuning = {\n",
        "        'tree_method': ['gpu_hist'],\n",
        "        'learning_rate': [0.01, 0.1],\n",
        "        'max_depth': [3, 5, 7, 10],\n",
        "        'min_child_weight': [1, 3, 5],\n",
        "        'subsample': [0.5, 0.7],\n",
        "        'colsample_bytree': [0.5, 0.7],\n",
        "        'n_estimators' : [100, 200, 500],\n",
        "        'objective': ['reg:squarederror']\n",
        "    }\n",
        "\n",
        "    xgb_model = XGBRegressor()\n",
        "\n",
        "    gsearch = GridSearchCV(estimator = xgb_model,\n",
        "                           param_grid = param_tuning,\n",
        "                           scoring = 'neg_mean_squared_error',\n",
        "                           cv = 5,\n",
        "                           n_jobs = -1,\n",
        "                           verbose = 1)\n",
        "\n",
        "    gsearch.fit(X_train,y_train)\n",
        "\n",
        "    return gsearch.best_params_"
      ]
    },
    {
      "cell_type": "code",
      "execution_count": null,
      "id": "484ec00b",
      "metadata": {
        "execution": {
          "iopub.execute_input": "2022-05-24T07:29:45.200590Z",
          "iopub.status.busy": "2022-05-24T07:29:45.200066Z",
          "iopub.status.idle": "2022-05-24T07:29:45.203905Z",
          "shell.execute_reply": "2022-05-24T07:29:45.203166Z"
        },
        "papermill": {
          "duration": 0.032365,
          "end_time": "2022-05-24T07:29:45.205716",
          "exception": false,
          "start_time": "2022-05-24T07:29:45.173351",
          "status": "completed"
        },
        "tags": [],
        "id": "484ec00b",
        "colab": {
          "base_uri": "https://localhost:8080/",
          "height": 328
        },
        "outputId": "bba83fa4-c595-40b0-ef95-cf8910eb9814"
      },
      "outputs": [
        {
          "output_type": "stream",
          "name": "stdout",
          "text": [
            "Fitting 5 folds for each of 288 candidates, totalling 1440 fits\n"
          ]
        },
        {
          "output_type": "error",
          "ename": "KeyboardInterrupt",
          "evalue": "ignored",
          "traceback": [
            "\u001b[0;31m---------------------------------------------------------------------------\u001b[0m",
            "\u001b[0;31mKeyboardInterrupt\u001b[0m                         Traceback (most recent call last)",
            "\u001b[0;32m<ipython-input-24-73359c376be1>\u001b[0m in \u001b[0;36m<module>\u001b[0;34m()\u001b[0m\n\u001b[0;32m----> 1\u001b[0;31m \u001b[0mhyperParameterTuning\u001b[0m\u001b[0;34m(\u001b[0m\u001b[0mX\u001b[0m\u001b[0;34m,\u001b[0m \u001b[0my\u001b[0m\u001b[0;34m)\u001b[0m\u001b[0;34m\u001b[0m\u001b[0;34m\u001b[0m\u001b[0m\n\u001b[0m",
            "\u001b[0;32m<ipython-input-23-b8e3b08d7d71>\u001b[0m in \u001b[0;36mhyperParameterTuning\u001b[0;34m(X_train, y_train)\u001b[0m\n\u001b[1;32m     21\u001b[0m                            verbose = 1)\n\u001b[1;32m     22\u001b[0m \u001b[0;34m\u001b[0m\u001b[0m\n\u001b[0;32m---> 23\u001b[0;31m     \u001b[0mgsearch\u001b[0m\u001b[0;34m.\u001b[0m\u001b[0mfit\u001b[0m\u001b[0;34m(\u001b[0m\u001b[0mX_train\u001b[0m\u001b[0;34m,\u001b[0m\u001b[0my_train\u001b[0m\u001b[0;34m)\u001b[0m\u001b[0;34m\u001b[0m\u001b[0;34m\u001b[0m\u001b[0m\n\u001b[0m\u001b[1;32m     24\u001b[0m \u001b[0;34m\u001b[0m\u001b[0m\n\u001b[1;32m     25\u001b[0m     \u001b[0;32mreturn\u001b[0m \u001b[0mgsearch\u001b[0m\u001b[0;34m.\u001b[0m\u001b[0mbest_params_\u001b[0m\u001b[0;34m\u001b[0m\u001b[0;34m\u001b[0m\u001b[0m\n",
            "\u001b[0;32m/usr/local/lib/python3.7/dist-packages/sklearn/model_selection/_search.py\u001b[0m in \u001b[0;36mfit\u001b[0;34m(self, X, y, groups, **fit_params)\u001b[0m\n\u001b[1;32m    889\u001b[0m                 \u001b[0;32mreturn\u001b[0m \u001b[0mresults\u001b[0m\u001b[0;34m\u001b[0m\u001b[0;34m\u001b[0m\u001b[0m\n\u001b[1;32m    890\u001b[0m \u001b[0;34m\u001b[0m\u001b[0m\n\u001b[0;32m--> 891\u001b[0;31m             \u001b[0mself\u001b[0m\u001b[0;34m.\u001b[0m\u001b[0m_run_search\u001b[0m\u001b[0;34m(\u001b[0m\u001b[0mevaluate_candidates\u001b[0m\u001b[0;34m)\u001b[0m\u001b[0;34m\u001b[0m\u001b[0;34m\u001b[0m\u001b[0m\n\u001b[0m\u001b[1;32m    892\u001b[0m \u001b[0;34m\u001b[0m\u001b[0m\n\u001b[1;32m    893\u001b[0m             \u001b[0;31m# multimetric is determined here because in the case of a callable\u001b[0m\u001b[0;34m\u001b[0m\u001b[0;34m\u001b[0m\u001b[0;34m\u001b[0m\u001b[0m\n",
            "\u001b[0;32m/usr/local/lib/python3.7/dist-packages/sklearn/model_selection/_search.py\u001b[0m in \u001b[0;36m_run_search\u001b[0;34m(self, evaluate_candidates)\u001b[0m\n\u001b[1;32m   1390\u001b[0m     \u001b[0;32mdef\u001b[0m \u001b[0m_run_search\u001b[0m\u001b[0;34m(\u001b[0m\u001b[0mself\u001b[0m\u001b[0;34m,\u001b[0m \u001b[0mevaluate_candidates\u001b[0m\u001b[0;34m)\u001b[0m\u001b[0;34m:\u001b[0m\u001b[0;34m\u001b[0m\u001b[0;34m\u001b[0m\u001b[0m\n\u001b[1;32m   1391\u001b[0m         \u001b[0;34m\"\"\"Search all candidates in param_grid\"\"\"\u001b[0m\u001b[0;34m\u001b[0m\u001b[0;34m\u001b[0m\u001b[0m\n\u001b[0;32m-> 1392\u001b[0;31m         \u001b[0mevaluate_candidates\u001b[0m\u001b[0;34m(\u001b[0m\u001b[0mParameterGrid\u001b[0m\u001b[0;34m(\u001b[0m\u001b[0mself\u001b[0m\u001b[0;34m.\u001b[0m\u001b[0mparam_grid\u001b[0m\u001b[0;34m)\u001b[0m\u001b[0;34m)\u001b[0m\u001b[0;34m\u001b[0m\u001b[0;34m\u001b[0m\u001b[0m\n\u001b[0m\u001b[1;32m   1393\u001b[0m \u001b[0;34m\u001b[0m\u001b[0m\n\u001b[1;32m   1394\u001b[0m \u001b[0;34m\u001b[0m\u001b[0m\n",
            "\u001b[0;32m/usr/local/lib/python3.7/dist-packages/sklearn/model_selection/_search.py\u001b[0m in \u001b[0;36mevaluate_candidates\u001b[0;34m(candidate_params, cv, more_results)\u001b[0m\n\u001b[1;32m    849\u001b[0m                     )\n\u001b[1;32m    850\u001b[0m                     for (cand_idx, parameters), (split_idx, (train, test)) in product(\n\u001b[0;32m--> 851\u001b[0;31m                         \u001b[0menumerate\u001b[0m\u001b[0;34m(\u001b[0m\u001b[0mcandidate_params\u001b[0m\u001b[0;34m)\u001b[0m\u001b[0;34m,\u001b[0m \u001b[0menumerate\u001b[0m\u001b[0;34m(\u001b[0m\u001b[0mcv\u001b[0m\u001b[0;34m.\u001b[0m\u001b[0msplit\u001b[0m\u001b[0;34m(\u001b[0m\u001b[0mX\u001b[0m\u001b[0;34m,\u001b[0m \u001b[0my\u001b[0m\u001b[0;34m,\u001b[0m \u001b[0mgroups\u001b[0m\u001b[0;34m)\u001b[0m\u001b[0;34m)\u001b[0m\u001b[0;34m\u001b[0m\u001b[0;34m\u001b[0m\u001b[0m\n\u001b[0m\u001b[1;32m    852\u001b[0m                     )\n\u001b[1;32m    853\u001b[0m                 )\n",
            "\u001b[0;32m/usr/local/lib/python3.7/dist-packages/joblib/parallel.py\u001b[0m in \u001b[0;36m__call__\u001b[0;34m(self, iterable)\u001b[0m\n\u001b[1;32m   1054\u001b[0m \u001b[0;34m\u001b[0m\u001b[0m\n\u001b[1;32m   1055\u001b[0m             \u001b[0;32mwith\u001b[0m \u001b[0mself\u001b[0m\u001b[0;34m.\u001b[0m\u001b[0m_backend\u001b[0m\u001b[0;34m.\u001b[0m\u001b[0mretrieval_context\u001b[0m\u001b[0;34m(\u001b[0m\u001b[0;34m)\u001b[0m\u001b[0;34m:\u001b[0m\u001b[0;34m\u001b[0m\u001b[0;34m\u001b[0m\u001b[0m\n\u001b[0;32m-> 1056\u001b[0;31m                 \u001b[0mself\u001b[0m\u001b[0;34m.\u001b[0m\u001b[0mretrieve\u001b[0m\u001b[0;34m(\u001b[0m\u001b[0;34m)\u001b[0m\u001b[0;34m\u001b[0m\u001b[0;34m\u001b[0m\u001b[0m\n\u001b[0m\u001b[1;32m   1057\u001b[0m             \u001b[0;31m# Make sure that we get a last message telling us we are done\u001b[0m\u001b[0;34m\u001b[0m\u001b[0;34m\u001b[0m\u001b[0;34m\u001b[0m\u001b[0m\n\u001b[1;32m   1058\u001b[0m             \u001b[0melapsed_time\u001b[0m \u001b[0;34m=\u001b[0m \u001b[0mtime\u001b[0m\u001b[0;34m.\u001b[0m\u001b[0mtime\u001b[0m\u001b[0;34m(\u001b[0m\u001b[0;34m)\u001b[0m \u001b[0;34m-\u001b[0m \u001b[0mself\u001b[0m\u001b[0;34m.\u001b[0m\u001b[0m_start_time\u001b[0m\u001b[0;34m\u001b[0m\u001b[0;34m\u001b[0m\u001b[0m\n",
            "\u001b[0;32m/usr/local/lib/python3.7/dist-packages/joblib/parallel.py\u001b[0m in \u001b[0;36mretrieve\u001b[0;34m(self)\u001b[0m\n\u001b[1;32m    933\u001b[0m             \u001b[0;32mtry\u001b[0m\u001b[0;34m:\u001b[0m\u001b[0;34m\u001b[0m\u001b[0;34m\u001b[0m\u001b[0m\n\u001b[1;32m    934\u001b[0m                 \u001b[0;32mif\u001b[0m \u001b[0mgetattr\u001b[0m\u001b[0;34m(\u001b[0m\u001b[0mself\u001b[0m\u001b[0;34m.\u001b[0m\u001b[0m_backend\u001b[0m\u001b[0;34m,\u001b[0m \u001b[0;34m'supports_timeout'\u001b[0m\u001b[0;34m,\u001b[0m \u001b[0;32mFalse\u001b[0m\u001b[0;34m)\u001b[0m\u001b[0;34m:\u001b[0m\u001b[0;34m\u001b[0m\u001b[0;34m\u001b[0m\u001b[0m\n\u001b[0;32m--> 935\u001b[0;31m                     \u001b[0mself\u001b[0m\u001b[0;34m.\u001b[0m\u001b[0m_output\u001b[0m\u001b[0;34m.\u001b[0m\u001b[0mextend\u001b[0m\u001b[0;34m(\u001b[0m\u001b[0mjob\u001b[0m\u001b[0;34m.\u001b[0m\u001b[0mget\u001b[0m\u001b[0;34m(\u001b[0m\u001b[0mtimeout\u001b[0m\u001b[0;34m=\u001b[0m\u001b[0mself\u001b[0m\u001b[0;34m.\u001b[0m\u001b[0mtimeout\u001b[0m\u001b[0;34m)\u001b[0m\u001b[0;34m)\u001b[0m\u001b[0;34m\u001b[0m\u001b[0;34m\u001b[0m\u001b[0m\n\u001b[0m\u001b[1;32m    936\u001b[0m                 \u001b[0;32melse\u001b[0m\u001b[0;34m:\u001b[0m\u001b[0;34m\u001b[0m\u001b[0;34m\u001b[0m\u001b[0m\n\u001b[1;32m    937\u001b[0m                     \u001b[0mself\u001b[0m\u001b[0;34m.\u001b[0m\u001b[0m_output\u001b[0m\u001b[0;34m.\u001b[0m\u001b[0mextend\u001b[0m\u001b[0;34m(\u001b[0m\u001b[0mjob\u001b[0m\u001b[0;34m.\u001b[0m\u001b[0mget\u001b[0m\u001b[0;34m(\u001b[0m\u001b[0;34m)\u001b[0m\u001b[0;34m)\u001b[0m\u001b[0;34m\u001b[0m\u001b[0;34m\u001b[0m\u001b[0m\n",
            "\u001b[0;32m/usr/local/lib/python3.7/dist-packages/joblib/_parallel_backends.py\u001b[0m in \u001b[0;36mwrap_future_result\u001b[0;34m(future, timeout)\u001b[0m\n\u001b[1;32m    540\u001b[0m         AsyncResults.get from multiprocessing.\"\"\"\n\u001b[1;32m    541\u001b[0m         \u001b[0;32mtry\u001b[0m\u001b[0;34m:\u001b[0m\u001b[0;34m\u001b[0m\u001b[0;34m\u001b[0m\u001b[0m\n\u001b[0;32m--> 542\u001b[0;31m             \u001b[0;32mreturn\u001b[0m \u001b[0mfuture\u001b[0m\u001b[0;34m.\u001b[0m\u001b[0mresult\u001b[0m\u001b[0;34m(\u001b[0m\u001b[0mtimeout\u001b[0m\u001b[0;34m=\u001b[0m\u001b[0mtimeout\u001b[0m\u001b[0;34m)\u001b[0m\u001b[0;34m\u001b[0m\u001b[0;34m\u001b[0m\u001b[0m\n\u001b[0m\u001b[1;32m    543\u001b[0m         \u001b[0;32mexcept\u001b[0m \u001b[0mCfTimeoutError\u001b[0m \u001b[0;32mas\u001b[0m \u001b[0me\u001b[0m\u001b[0;34m:\u001b[0m\u001b[0;34m\u001b[0m\u001b[0;34m\u001b[0m\u001b[0m\n\u001b[1;32m    544\u001b[0m             \u001b[0;32mraise\u001b[0m \u001b[0mTimeoutError\u001b[0m \u001b[0;32mfrom\u001b[0m \u001b[0me\u001b[0m\u001b[0;34m\u001b[0m\u001b[0;34m\u001b[0m\u001b[0m\n",
            "\u001b[0;32m/usr/lib/python3.7/concurrent/futures/_base.py\u001b[0m in \u001b[0;36mresult\u001b[0;34m(self, timeout)\u001b[0m\n\u001b[1;32m    428\u001b[0m                 \u001b[0;32mreturn\u001b[0m \u001b[0mself\u001b[0m\u001b[0;34m.\u001b[0m\u001b[0m__get_result\u001b[0m\u001b[0;34m(\u001b[0m\u001b[0;34m)\u001b[0m\u001b[0;34m\u001b[0m\u001b[0;34m\u001b[0m\u001b[0m\n\u001b[1;32m    429\u001b[0m \u001b[0;34m\u001b[0m\u001b[0m\n\u001b[0;32m--> 430\u001b[0;31m             \u001b[0mself\u001b[0m\u001b[0;34m.\u001b[0m\u001b[0m_condition\u001b[0m\u001b[0;34m.\u001b[0m\u001b[0mwait\u001b[0m\u001b[0;34m(\u001b[0m\u001b[0mtimeout\u001b[0m\u001b[0;34m)\u001b[0m\u001b[0;34m\u001b[0m\u001b[0;34m\u001b[0m\u001b[0m\n\u001b[0m\u001b[1;32m    431\u001b[0m \u001b[0;34m\u001b[0m\u001b[0m\n\u001b[1;32m    432\u001b[0m             \u001b[0;32mif\u001b[0m \u001b[0mself\u001b[0m\u001b[0;34m.\u001b[0m\u001b[0m_state\u001b[0m \u001b[0;32min\u001b[0m \u001b[0;34m[\u001b[0m\u001b[0mCANCELLED\u001b[0m\u001b[0;34m,\u001b[0m \u001b[0mCANCELLED_AND_NOTIFIED\u001b[0m\u001b[0;34m]\u001b[0m\u001b[0;34m:\u001b[0m\u001b[0;34m\u001b[0m\u001b[0;34m\u001b[0m\u001b[0m\n",
            "\u001b[0;32m/usr/lib/python3.7/threading.py\u001b[0m in \u001b[0;36mwait\u001b[0;34m(self, timeout)\u001b[0m\n\u001b[1;32m    294\u001b[0m         \u001b[0;32mtry\u001b[0m\u001b[0;34m:\u001b[0m    \u001b[0;31m# restore state no matter what (e.g., KeyboardInterrupt)\u001b[0m\u001b[0;34m\u001b[0m\u001b[0;34m\u001b[0m\u001b[0m\n\u001b[1;32m    295\u001b[0m             \u001b[0;32mif\u001b[0m \u001b[0mtimeout\u001b[0m \u001b[0;32mis\u001b[0m \u001b[0;32mNone\u001b[0m\u001b[0;34m:\u001b[0m\u001b[0;34m\u001b[0m\u001b[0;34m\u001b[0m\u001b[0m\n\u001b[0;32m--> 296\u001b[0;31m                 \u001b[0mwaiter\u001b[0m\u001b[0;34m.\u001b[0m\u001b[0macquire\u001b[0m\u001b[0;34m(\u001b[0m\u001b[0;34m)\u001b[0m\u001b[0;34m\u001b[0m\u001b[0;34m\u001b[0m\u001b[0m\n\u001b[0m\u001b[1;32m    297\u001b[0m                 \u001b[0mgotit\u001b[0m \u001b[0;34m=\u001b[0m \u001b[0;32mTrue\u001b[0m\u001b[0;34m\u001b[0m\u001b[0;34m\u001b[0m\u001b[0m\n\u001b[1;32m    298\u001b[0m             \u001b[0;32melse\u001b[0m\u001b[0;34m:\u001b[0m\u001b[0;34m\u001b[0m\u001b[0;34m\u001b[0m\u001b[0m\n",
            "\u001b[0;31mKeyboardInterrupt\u001b[0m: "
          ]
        }
      ],
      "source": [
        "hyperParameterTuning(X, y)"
      ]
    },
    {
      "cell_type": "code",
      "execution_count": null,
      "id": "c06c76b6",
      "metadata": {
        "execution": {
          "iopub.execute_input": "2022-05-24T07:29:45.257635Z",
          "iopub.status.busy": "2022-05-24T07:29:45.257289Z",
          "iopub.status.idle": "2022-05-24T07:32:34.369936Z",
          "shell.execute_reply": "2022-05-24T07:32:34.369009Z"
        },
        "papermill": {
          "duration": 169.157574,
          "end_time": "2022-05-24T07:32:34.388630",
          "exception": false,
          "start_time": "2022-05-24T07:29:45.231056",
          "status": "completed"
        },
        "tags": [],
        "colab": {
          "base_uri": "https://localhost:8080/"
        },
        "id": "c06c76b6",
        "outputId": "dfe3599e-5689-44c2-f8ec-78d7e1dc1065"
      },
      "outputs": [
        {
          "output_type": "execute_result",
          "data": {
            "text/plain": [
              "{'fit_time': array([3.97329855, 3.95169401, 3.88341951, 3.86527896, 3.87578201]),\n",
              " 'score_time': array([0.03242588, 0.03188968, 0.0321188 , 0.03239894, 0.03212047]),\n",
              " 'test_MAE': array([1313.72266113, 1300.59080982, 1300.94411564, 1310.69620708,\n",
              "        1315.86751542]),\n",
              " 'test_MSE': array([3994382.87388888, 3981895.83219243, 4944780.67451145,\n",
              "        5192696.79647557, 4396648.94395278])}"
            ]
          },
          "metadata": {},
          "execution_count": 86
        }
      ],
      "source": [
        "#Cross-Validation\n",
        "model = XGBRegressor()\n",
        "\n",
        "scoring = {'MSE': make_scorer(mean_squared_error),\n",
        "          'MAE': make_scorer(mean_absolute_error)}\n",
        "\n",
        "kfold = KFold(n_splits=5, random_state=1234, shuffle=True)\n",
        "\n",
        "results_reg = cross_validate(estimator=model, \n",
        "                             X=X, \n",
        "                             y=y, \n",
        "                             cv=kfold, \n",
        "                             scoring=scoring)\n",
        "\n",
        "results_reg"
      ]
    },
    {
      "cell_type": "code",
      "execution_count": null,
      "id": "ea323057",
      "metadata": {
        "execution": {
          "iopub.execute_input": "2022-05-24T07:32:34.437333Z",
          "iopub.status.busy": "2022-05-24T07:32:34.437035Z",
          "iopub.status.idle": "2022-05-24T07:32:34.442529Z",
          "shell.execute_reply": "2022-05-24T07:32:34.441385Z"
        },
        "papermill": {
          "duration": 0.031806,
          "end_time": "2022-05-24T07:32:34.444178",
          "exception": false,
          "start_time": "2022-05-24T07:32:34.412372",
          "status": "completed"
        },
        "tags": [],
        "colab": {
          "base_uri": "https://localhost:8080/"
        },
        "id": "ea323057",
        "outputId": "4550daea-cde2-4798-be30-6d8de14d3807"
      },
      "outputs": [
        {
          "output_type": "stream",
          "name": "stdout",
          "text": [
            "mean_RMSE :  2118.663610535661974\n"
          ]
        }
      ],
      "source": [
        "b_lin = np.sqrt(results_reg.get('test_MSE'))\n",
        "print('mean_RMSE: ', \"%.15f\" % (b_lin.mean()))"
      ]
    },
    {
      "cell_type": "code",
      "execution_count": null,
      "id": "99f07c3f",
      "metadata": {
        "execution": {
          "iopub.execute_input": "2022-05-24T07:32:34.505299Z",
          "iopub.status.busy": "2022-05-24T07:32:34.505102Z",
          "iopub.status.idle": "2022-05-24T07:32:34.588430Z",
          "shell.execute_reply": "2022-05-24T07:32:34.587719Z"
        },
        "papermill": {
          "duration": 0.115389,
          "end_time": "2022-05-24T07:32:34.590501",
          "exception": false,
          "start_time": "2022-05-24T07:32:34.475112",
          "status": "completed"
        },
        "tags": [],
        "id": "99f07c3f"
      },
      "outputs": [],
      "source": [
        "#Train-Test Split\n",
        "X_train, X_test, y_train, y_test = train_test_split(X, y, test_size=0.2, random_state=123)"
      ]
    },
    {
      "cell_type": "code",
      "execution_count": null,
      "id": "916e1b5a",
      "metadata": {
        "execution": {
          "iopub.execute_input": "2022-05-24T07:32:34.640918Z",
          "iopub.status.busy": "2022-05-24T07:32:34.640507Z",
          "iopub.status.idle": "2022-05-24T07:33:07.534167Z",
          "shell.execute_reply": "2022-05-24T07:33:07.533542Z"
        },
        "papermill": {
          "duration": 32.921852,
          "end_time": "2022-05-24T07:33:07.536603",
          "exception": false,
          "start_time": "2022-05-24T07:32:34.614751",
          "status": "completed"
        },
        "tags": [],
        "id": "916e1b5a"
      },
      "outputs": [],
      "source": [
        "model = model.fit(X_train, y_train)\n",
        "y_predict = model.predict(X_test)"
      ]
    },
    {
      "cell_type": "code",
      "execution_count": null,
      "id": "ffad9729",
      "metadata": {
        "execution": {
          "iopub.execute_input": "2022-05-24T07:33:07.588862Z",
          "iopub.status.busy": "2022-05-24T07:33:07.588596Z",
          "iopub.status.idle": "2022-05-24T07:33:07.833255Z",
          "shell.execute_reply": "2022-05-24T07:33:07.832548Z"
        },
        "papermill": {
          "duration": 0.27186,
          "end_time": "2022-05-24T07:33:07.835279",
          "exception": false,
          "start_time": "2022-05-24T07:33:07.563419",
          "status": "completed"
        },
        "tags": [],
        "colab": {
          "base_uri": "https://localhost:8080/",
          "height": 404
        },
        "id": "ffad9729",
        "outputId": "cbfd6530-b651-435e-830c-b14cf1be6494"
      },
      "outputs": [
        {
          "output_type": "display_data",
          "data": {
            "text/plain": [
              "<Figure size 576x432 with 1 Axes>"
            ],
            "image/png": "[encoded data removed]"
          },
          "metadata": {
            "needs_background": "light"
          }
        }
      ],
      "source": [
        "# Comparing the prediction results and its actual values\n",
        "fig, ax1 = plt.subplots(figsize=(8,6))\n",
        "plt.scatter(y_predict, y_test, color='blue')\n",
        "plt.plot(y_test, y_test, color='red')\n",
        "plt.title('XGboost Regression Result')\n",
        "plt.xlabel('Predicted Values')\n",
        "plt.ylabel('Actual Values')\n",
        "plt.show()"
      ]
    },
    {
      "cell_type": "markdown",
      "id": "60f72a7b",
      "metadata": {
        "papermill": {
          "duration": 0.025174,
          "end_time": "2022-05-24T07:33:07.885813",
          "exception": false,
          "start_time": "2022-05-24T07:33:07.860639",
          "status": "completed"
        },
        "tags": [],
        "id": "60f72a7b"
      },
      "source": [
        "## Saving Model"
      ]
    },
    {
      "cell_type": "code",
      "execution_count": null,
      "id": "d54fd01a",
      "metadata": {
        "execution": {
          "iopub.execute_input": "2022-05-24T07:33:48.900943Z",
          "iopub.status.busy": "2022-05-24T07:33:48.900716Z",
          "iopub.status.idle": "2022-05-24T07:33:48.911376Z",
          "shell.execute_reply": "2022-05-24T07:33:48.910863Z"
        },
        "papermill": {
          "duration": 0.039403,
          "end_time": "2022-05-24T07:33:48.913157",
          "exception": false,
          "start_time": "2022-05-24T07:33:48.873754",
          "status": "completed"
        },
        "tags": [],
        "id": "d54fd01a",
        "outputId": "4762995b-4550-4b40-a150-81ccae0e412c",
        "colab": {
          "base_uri": "https://localhost:8080/"
        }
      },
      "outputs": [
        {
          "output_type": "execute_result",
          "data": {
            "text/plain": [
              "['model_lr.pkl']"
            ]
          },
          "metadata": {},
          "execution_count": 91
        }
      ],
      "source": [
        "import joblib\n",
        "joblib.dump(value=model, filename=\"model_lr.pkl\")"
      ]
    }
  ],
  "metadata": {
    "kernelspec": {
      "display_name": "Python 3",
      "language": "python",
      "name": "python3"
    },
    "language_info": {
      "codemirror_mode": {
        "name": "ipython",
        "version": 3
      },
      "file_extension": ".py",
      "mimetype": "text/x-python",
      "name": "python",
      "nbconvert_exporter": "python",
      "pygments_lexer": "ipython3",
      "version": "3.7.12"
    },
    "papermill": {
      "default_parameters": {},
      "duration": 256.220165,
      "end_time": "2022-05-24T07:33:50.161647",
      "environment_variables": {},
      "exception": null,
      "input_path": "__notebook__.ipynb",
      "output_path": "__notebook__.ipynb",
      "parameters": {},
      "start_time": "2022-05-24T07:29:33.941482",
      "version": "2.3.4"
    },
    "colab": {
      "name": "model.ipynb",
      "provenance": [],
      "collapsed_sections": []
    },
    "accelerator": "GPU"
  },
  "nbformat": 4,
  "nbformat_minor": 5
}